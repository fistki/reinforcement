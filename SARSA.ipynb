{
  "nbformat": 4,
  "nbformat_minor": 0,
  "metadata": {
    "colab": {
      "provenance": [],
      "include_colab_link": true
    },
    "kernelspec": {
      "name": "python3",
      "display_name": "Python 3"
    },
    "language_info": {
      "name": "python"
    }
  },
  "cells": [
    {
      "cell_type": "markdown",
      "metadata": {
        "id": "view-in-github",
        "colab_type": "text"
      },
      "source": [
        "<a href=\"https://colab.research.google.com/github/fistki/reinforcement/blob/main/SARSA.ipynb\" target=\"_parent\"><img src=\"https://colab.research.google.com/assets/colab-badge.svg\" alt=\"Open In Colab\"/></a>"
      ]
    },
    {
      "cell_type": "code",
      "execution_count": null,
      "metadata": {
        "id": "QliyluixW1MX"
      },
      "outputs": [],
      "source": [
        "# !pip install tensorflow\n",
        "# !pip install gym\n",
        "# !pip install numpy"
      ]
    },
    {
      "cell_type": "code",
      "source": [
        "import numpy as np\n",
        "import pandas as pd\n",
        "import random\n",
        "from collections import defaultdict\n",
        "import gym\n",
        "\n",
        "import torch\n",
        "import torch.nn as nn\n",
        "import torch.optim as optim\n",
        "\n",
        "import matplotlib.pyplot as plt\n",
        "%matplotlib inline"
      ],
      "metadata": {
        "id": "QxobB_Dy055Y"
      },
      "execution_count": null,
      "outputs": []
    },
    {
      "cell_type": "code",
      "source": [
        "class Agent:\n",
        "    def __init__(self, num_states, num_actions):\n",
        "\n",
        "    # update function\n",
        "\n",
        "    # decrease_epsilon function\n",
        "\n",
        "    # act function\n",
        ""
      ],
      "metadata": {
        "id": "tLJg4Ofi04oo"
      },
      "execution_count": null,
      "outputs": []
    },
    {
      "cell_type": "code",
      "source": [
        "import gym\n",
        "from gym import wrappers\n",
        "env = gym.make('CartPole-v1', render_mode='rgb_array')\n",
        "observation = env.reset()\n",
        "agent = Agent(4,2)"
      ],
      "metadata": {
        "id": "YM5mNttf0-mf"
      },
      "execution_count": null,
      "outputs": []
    },
    {
      "cell_type": "code",
      "source": [
        "# training SARSA"
      ],
      "metadata": {
        "id": "21y4IB0R1AEP"
      },
      "execution_count": null,
      "outputs": []
    }
  ]
}