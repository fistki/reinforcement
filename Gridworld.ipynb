{
  "cells": [
    {
      "cell_type": "markdown",
      "metadata": {
        "id": "view-in-github",
        "colab_type": "text"
      },
      "source": [
        "<a href=\"https://colab.research.google.com/github/fistki/reinforcement/blob/main/Gridworld.ipynb\" target=\"_parent\"><img src=\"https://colab.research.google.com/assets/colab-badge.svg\" alt=\"Open In Colab\"/></a>"
      ]
    },
    {
      "cell_type": "code",
      "execution_count": null,
      "id": "f28a99ea",
      "metadata": {
        "pycharm": {
          "is_executing": true,
          "name": "#%%\n"
        },
        "id": "f28a99ea"
      },
      "outputs": [],
      "source": [
        "import numpy as np\n",
        "import torch\n",
        "from IPython.display import clear_output\n",
        "\n",
        "import copy\n",
        "import random\n",
        "from matplotlib import pylab as plt\n",
        "\n",
        "from collections import deque"
      ]
    },
    {
      "cell_type": "markdown",
      "source": [
        "# Deep Learning Model"
      ],
      "metadata": {
        "id": "dOe89EzxQABi"
      },
      "id": "dOe89EzxQABi"
    },
    {
      "cell_type": "code",
      "source": [
        "import numpy as np\n",
        "import random\n",
        "import torch\n",
        "import torch.nn as nn\n",
        "from torch.nn import functional as F\n",
        "\n",
        "\n",
        "class ContextBandit:\n",
        "    def __init__(self, states=10, arms=10):\n",
        "        self.state = None\n",
        "        self.bandit_matrix = None\n",
        "        self.arms = arms\n",
        "        self.states = states\n",
        "        self.init_distribution(states, arms)\n",
        "        self.update_state()\n",
        "\n",
        "    def init_distribution(self, states, arms):\n",
        "        self.bandit_matrix = np.random.rand(states, arms)\n",
        "\n",
        "    def reward(self, prob):\n",
        "        reward = 0\n",
        "        for i in range(self.arms):\n",
        "            if random.random() < prob:\n",
        "                reward += 1\n",
        "        return reward\n",
        "\n",
        "    def get_state(self):\n",
        "        return self.state\n",
        "\n",
        "    def update_state(self):\n",
        "        self.state = np.random.randint(0, self.states)\n",
        "\n",
        "    def get_reward(self, arm):\n",
        "        return self.reward(self.bandit_matrix[self.get_state()][arm])\n",
        "\n",
        "    def choose_arm(self, arm):\n",
        "        reward = self.get_reward(arm)\n",
        "        self.update_state()\n",
        "        return reward\n",
        "\n",
        "\n",
        "class ContextBanditModel(nn.Module):\n",
        "    def __init__(self, states=10, arms=10, hidden=100):\n",
        "        super(ContextBanditModel, self).__init__()\n",
        "        self.states = states\n",
        "        self.arms = arms\n",
        "        self.hidden = hidden\n",
        "        self.l1 = nn.Linear(arms, hidden)\n",
        "        self.l2 = nn.Linear(hidden, arms)\n",
        "\n",
        "    def forward(self, x):\n",
        "        out = F.relu(self.l1(x))\n",
        "        out = F.relu(self.l2(out))\n",
        "\n",
        "        return out\n",
        "\n",
        "\n",
        "class MiniGridModel(nn.Module):\n",
        "    def __init__(self, l1_input=64, l1_output=150, l2_output=100, output=4):\n",
        "        super(MiniGridModel, self).__init__()\n",
        "        self.l1_input = l1_input\n",
        "        self.l1_output = l1_output\n",
        "        self.l2_output = l2_output\n",
        "        self.output = output\n",
        "\n",
        "        self.l1 = nn.Linear(l1_input, l1_output)\n",
        "        self.l2 = nn.Linear(l1_output, l2_output)\n",
        "        self.l3 = nn.Linear(l2_output, output)\n",
        "\n",
        "    def forward(self, x):\n",
        "        out = F.relu(self.l1(x))\n",
        "        out = F.relu(self.l2(out))\n",
        "        out = self.l3(out)\n",
        "        return out\n",
        "\n",
        "\n",
        "class Reinforce(nn.Module):\n",
        "    def __init__(self):\n",
        "        super(Reinforce, self).__init__()\n",
        "\n",
        "        self.agent = nn.Sequential(\n",
        "            nn.Linear(4, 150),\n",
        "            nn.LeakyReLU(),\n",
        "            nn.Linear(150, 2),\n",
        "            nn.Softmax(dim=0)\n",
        "        )\n",
        "\n",
        "    def forward(self, x):\n",
        "        out = self.agent(x)\n",
        "        return out\n",
        "\n",
        "\n",
        "class ActorCritic(nn.Module):\n",
        "    def __init__(self):\n",
        "        super(ActorCritic, self).__init__()\n",
        "        self.l1 = nn.Linear(4, 25)\n",
        "        self.l2 = nn.Linear(25, 50)\n",
        "        self.actor_lin1 = nn.Linear(50, 2)\n",
        "        self.l3 = nn.Linear(50, 25)\n",
        "        self.critic_lin1 = nn.Linear(25, 1)\n",
        "\n",
        "    def forward(self, x):\n",
        "        x = F.normalize(x, dim=0)\n",
        "        y = F.relu(self.l1(x))\n",
        "        y = F.relu(self.l2(y))\n",
        "        actor = F.log_softmax(self.actor_lin1(y), dim=0)\n",
        "\n",
        "        c = F.relu(self.l3(y.detach()))\n",
        "        critic = torch.tanh(self.critic_lin1(c))\n",
        "        return actor, critic\n",
        "\n",
        "\n",
        "class Genetic(nn.Module):\n",
        "    def __init__(self):\n",
        "        super(Genetic, self).__init__()\n",
        "\n",
        "        self.agent = nn.Sequential(\n",
        "            nn.Linear(4, 25),\n",
        "            nn.ReLU(),\n",
        "            nn.Linear(25, 10),\n",
        "            nn.ReLU(),\n",
        "            nn.Linear(10, 2),\n",
        "        )\n",
        "\n",
        "    def forward(self, x):\n",
        "        out = self.agent(x)\n",
        "        out = F.log_softmax(out, dim=0)\n",
        "\n",
        "        return out"
      ],
      "metadata": {
        "id": "bNWyOc1zPYej"
      },
      "id": "bNWyOc1zPYej",
      "execution_count": null,
      "outputs": []
    },
    {
      "cell_type": "markdown",
      "source": [
        "# Utils"
      ],
      "metadata": {
        "id": "vJ6Hcq5FQEgF"
      },
      "id": "vJ6Hcq5FQEgF"
    },
    {
      "cell_type": "code",
      "source": [
        "import numpy as np\n",
        "from matplotlib import pyplot as plt\n",
        "\n",
        "# from JSAnimation.IPython_display import display_animation\n",
        "from matplotlib import animation\n",
        "# from IPython.display import HTML\n",
        "from IPython import display\n",
        "import torch\n",
        "\n",
        "\n",
        "def running_mean(x, N=50):\n",
        "    kernel = np.ones(N)\n",
        "    conv_len = x.shape[0]-N\n",
        "    y = np.zeros(conv_len)\n",
        "    for i in range(conv_len):\n",
        "        y[i] = kernel @ x[i:i+N]\n",
        "        y[i] /= N\n",
        "    return y\n",
        "\n",
        "\n",
        "def display_frames_as_gif(frames):\n",
        "    \"\"\"\n",
        "    Displays a list of frames as a gif, with controls\n",
        "    \"\"\"\n",
        "    patch = plt.imshow(frames[0][0])\n",
        "    plt.axis('off')\n",
        "\n",
        "    def animate(i):\n",
        "        patch.set_data(frames[i][0])\n",
        "\n",
        "    anim = animation.FuncAnimation(plt.gcf(), animate, frames=len(frames), interval=10)\n",
        "\n",
        "    video = anim.to_html5_video()\n",
        "    html = display.HTML(video)\n",
        "    display.display(html)\n",
        "    plt.close()\n",
        "\n",
        "\n",
        "def minigrid_test_model(env, model, mode='static', loss_lim=15, display=True):\n",
        "    action_set = {\n",
        "        0: 'u',\n",
        "        1: 'd',\n",
        "        2: 'l',\n",
        "        3: 'r',\n",
        "    }\n",
        "\n",
        "    i = 0\n",
        "    test_game = env(mode=mode)\n",
        "    state = test_game.board.render_np().reshape(1, 64) + np.random.rand(1, 64) / 10.0\n",
        "    state = torch.from_numpy(state).float()\n",
        "\n",
        "    if display:\n",
        "        print(\"Initial State:\")\n",
        "        print(test_game.display())\n",
        "\n",
        "    status = 1\n",
        "    while status == 1:\n",
        "        qval = model(state)\n",
        "        qval_ = qval.data.numpy()\n",
        "        action_ = np.argmax(qval_)\n",
        "        action = action_set[action_]\n",
        "\n",
        "        if display:\n",
        "            print('Move #: %s; Taking action: %s' % (i, action))\n",
        "        test_game.makeMove(action)\n",
        "\n",
        "        state_ = test_game.board.render_np().reshape(1, 64) + np.random.rand(1, 64) / 10.0\n",
        "        state = torch.from_numpy(state_).float()\n",
        "\n",
        "        if display:\n",
        "            print(test_game.display())\n",
        "        reward = test_game.reward()\n",
        "        if reward != -1:\n",
        "            if reward > 0:\n",
        "                status = 2\n",
        "                if display:\n",
        "                    print(\"Game won! Reward: %s\" % (reward,))\n",
        "            else:\n",
        "                status = 0\n",
        "                if display:\n",
        "                    print(\"Game LOST. Reward: %s\" % (reward,))\n",
        "        i += 1\n",
        "\n",
        "        if i > loss_lim:\n",
        "            if display:\n",
        "                print(\"Game lost; too many moves.\")\n",
        "            break\n",
        "\n",
        "    win = True if status == 2 else False\n",
        "    return win\n",
        "\n",
        "\n",
        "def cartpole_train_graph(score):\n",
        "    score = np.array(score)\n",
        "    avg_score = running_mean(score, 50)\n",
        "    plt.figure(figsize=(10, 7))\n",
        "    plt.ylabel(\"Episode Duration\", fontsize=22)\n",
        "    plt.xlabel(\"Training Epochs\", fontsize=22)\n",
        "    plt.plot(avg_score, color='green')\n",
        "\n",
        "\n",
        "def cartpole_test_scatter(env, model, MAX_DUR=500):\n",
        "    score = []\n",
        "    games = 100\n",
        "    done = False\n",
        "    state1 = env.reset()\n",
        "    for i in range(games):\n",
        "        t = 0\n",
        "        while not done:\n",
        "            pred = model(torch.from_numpy(state1).float())\n",
        "            action = np.random.choice(np.array([0, 1]), p=pred.data.numpy())\n",
        "            state2, reward, done, truncated = env.step(action)\n",
        "            state1 = state2\n",
        "            t += 1\n",
        "            if t > MAX_DUR:\n",
        "                break\n",
        "\n",
        "        state1 = env.reset()\n",
        "        done = False\n",
        "        score.append(t)\n",
        "    score = np.array(score)\n",
        "    plt.scatter(np.arange(score.shape[0]), score)\n",
        "\n",
        "\n",
        "def cartpole_test_scatter_a2c(env, model, MAX_DUR=500):\n",
        "    score = []\n",
        "    games = 100\n",
        "    done = False\n",
        "    state1 = env.reset()\n",
        "\n",
        "    for i in range(games):\n",
        "        t = 0\n",
        "        while not done:\n",
        "            logits, value = model(torch.from_numpy(state1).float())\n",
        "            action_dist = torch.distributions.Categorical(logits=logits)\n",
        "            action = action_dist.sample()\n",
        "            state2, reward, done, truncated = env.step(action.detach().numpy())\n",
        "            state1 = state2\n",
        "\n",
        "            t += 1\n",
        "            if t > MAX_DUR:\n",
        "                break\n",
        "\n",
        "        state1 = env.reset()\n",
        "        done = False\n",
        "        score.append(t)\n",
        "\n",
        "    score = np.array(score)\n",
        "    plt.scatter(np.arange(score.shape[0]), score)\n",
        "\n",
        "\n",
        "def cartpole_test_video(env, model, MAX_DUR=500):\n",
        "    done = False\n",
        "    frames = []\n",
        "    t = 0\n",
        "    state1 = env.reset()\n",
        "    while not done:\n",
        "        frames.append(env.render())\n",
        "        pred = model(torch.from_numpy(state1).float())\n",
        "        action = np.random.choice(np.array([0, 1]), p=pred.data.numpy())\n",
        "        state2, reward, done, truncated = env.step(action)\n",
        "        state1 = state2\n",
        "        t += 1\n",
        "        if t > MAX_DUR:  # L\n",
        "            break\n",
        "\n",
        "    env.close()\n",
        "    print(f\"Episode length : {t}\")\n",
        "\n",
        "    display_frames_as_gif(frames)\n",
        "\n",
        "\n",
        "def cartpole_test_video_a2c(env, model, MAX_DUR=500):\n",
        "    done = False\n",
        "    frames = []\n",
        "    t = 0\n",
        "    state1 = env.reset()\n",
        "\n",
        "    while not done:\n",
        "        frames.append(env.render())\n",
        "        logits, value = model(torch.from_numpy(state1).float())\n",
        "        action_dist = torch.distributions.Categorical(logits=logits)\n",
        "        action = action_dist.sample()\n",
        "        state2, reward, done, truncated = env.step(action.detach().numpy())\n",
        "        state1 = state2\n",
        "        t += 1\n",
        "        if t > MAX_DUR:  # L\n",
        "            break\n",
        "\n",
        "    env.close()\n",
        "    print(f\"Episode length : {t}\")\n",
        "\n",
        "    display_frames_as_gif(frames)"
      ],
      "metadata": {
        "id": "p8V2uI_-PFqQ"
      },
      "id": "p8V2uI_-PFqQ",
      "execution_count": null,
      "outputs": []
    },
    {
      "cell_type": "markdown",
      "source": [
        "# GridWorld"
      ],
      "metadata": {
        "id": "KHFisyesP7GF"
      },
      "id": "KHFisyesP7GF"
    },
    {
      "cell_type": "code",
      "source": [
        "import numpy as np\n",
        "import random\n",
        "import sys\n",
        "\n",
        "def randPair(s,e):\n",
        "    return np.random.randint(s,e), np.random.randint(s,e)\n",
        "\n",
        "class BoardPiece:\n",
        "\n",
        "    def __init__(self, name, code, pos):\n",
        "        self.name = name #name of the piece\n",
        "        self.code = code #an ASCII character to display on the board\n",
        "        self.pos = pos #2-tuple e.g. (1,4)\n",
        "\n",
        "class BoardMask:\n",
        "\n",
        "    def __init__(self, name, mask, code):\n",
        "        self.name = name\n",
        "        self.mask = mask\n",
        "        self.code = code\n",
        "\n",
        "    def get_positions(self): #returns tuple of arrays\n",
        "        return np.nonzero(self.mask)\n",
        "\n",
        "def zip_positions2d(positions): #positions is tuple of two arrays\n",
        "    x,y = positions\n",
        "    return list(zip(x,y))\n",
        "\n",
        "class GridBoard:\n",
        "\n",
        "    def __init__(self, size=4):\n",
        "        self.size = size #Board dimensions, e.g. 4 x 4\n",
        "        self.components = {} #name : board piece\n",
        "        self.masks = {}\n",
        "\n",
        "    def addPiece(self, name, code, pos=(0,0)):\n",
        "        newPiece = BoardPiece(name, code, pos)\n",
        "        self.components[name] = newPiece\n",
        "\n",
        "    #basically a set of boundary elements\n",
        "    def addMask(self, name, mask, code):\n",
        "        #mask is a 2D-numpy array with 1s where the boundary elements are\n",
        "        newMask = BoardMask(name, mask, code)\n",
        "        self.masks[name] = newMask\n",
        "\n",
        "    def movePiece(self, name, pos):\n",
        "        move = True\n",
        "        for _, mask in self.masks.items():\n",
        "            if pos in zip_positions2d(mask.get_positions()):\n",
        "                move = False\n",
        "        if move:\n",
        "            self.components[name].pos = pos\n",
        "\n",
        "    def delPiece(self, name):\n",
        "        del self.components['name']\n",
        "\n",
        "    def render(self):\n",
        "        dtype = '<U2'\n",
        "        displ_board = np.zeros((self.size, self.size), dtype=dtype)\n",
        "        displ_board[:] = ' '\n",
        "\n",
        "        for name, piece in self.components.items():\n",
        "            displ_board[piece.pos] = piece.code\n",
        "\n",
        "        for name, mask in self.masks.items():\n",
        "            displ_board[mask.get_positions()] = mask.code\n",
        "\n",
        "        return displ_board\n",
        "\n",
        "    def render_np(self):\n",
        "        num_pieces = len(self.components) + len(self.masks)\n",
        "        displ_board = np.zeros((num_pieces, self.size, self.size), dtype=np.uint8)\n",
        "        layer = 0\n",
        "        for name, piece in self.components.items():\n",
        "            pos = (layer,) + piece.pos\n",
        "            displ_board[pos] = 1\n",
        "            layer += 1\n",
        "\n",
        "        for name, mask in self.masks.items():\n",
        "            x,y = self.masks['boundary'].get_positions()\n",
        "            z = np.repeat(layer,len(x))\n",
        "            a = (z,x,y)\n",
        "            displ_board[a] = 1\n",
        "            layer += 1\n",
        "        return displ_board\n",
        "\n",
        "def addTuple(a,b):\n",
        "    return tuple([sum(x) for x in zip(a,b)])\n",
        "\n",
        "\n",
        "class Gridworld:\n",
        "\n",
        "    def __init__(self, size=4, mode='static'):\n",
        "        if size >= 4:\n",
        "            self.board = GridBoard(size=size)\n",
        "        else:\n",
        "            print(\"Minimum board size is 4. Initialized to size 4.\")\n",
        "            self.board = GridBoard(size=4)\n",
        "\n",
        "        #Add pieces, positions will be updated later\n",
        "        self.board.addPiece('Player','P',(0,0))\n",
        "        self.board.addPiece('Goal','+',(1,0))\n",
        "        self.board.addPiece('Pit','-',(2,0))\n",
        "        self.board.addPiece('Wall','W',(3,0))\n",
        "\n",
        "        if mode == 'static':\n",
        "            self.initGridStatic()\n",
        "        elif mode == 'player':\n",
        "            self.initGridPlayer()\n",
        "        else:\n",
        "            self.initGridRand()\n",
        "\n",
        "    #Initialize stationary grid, all items are placed deterministically\n",
        "    def initGridStatic(self):\n",
        "        #Setup static pieces\n",
        "        self.board.components['Player'].pos = (0,3) #Row, Column\n",
        "        self.board.components['Goal'].pos = (0,0)\n",
        "        self.board.components['Pit'].pos = (0,1)\n",
        "        self.board.components['Wall'].pos = (1,1)\n",
        "\n",
        "    #Check if board is initialized appropriately (no overlapping pieces)\n",
        "    #also remove impossible-to-win boards\n",
        "    def validateBoard(self):\n",
        "        valid = True\n",
        "\n",
        "        player = self.board.components['Player']\n",
        "        goal = self.board.components['Goal']\n",
        "        wall = self.board.components['Wall']\n",
        "        pit = self.board.components['Pit']\n",
        "\n",
        "        all_positions = [piece for name,piece in self.board.components.items()]\n",
        "        all_positions = [player.pos, goal.pos, wall.pos, pit.pos]\n",
        "        if len(all_positions) > len(set(all_positions)):\n",
        "            return False\n",
        "\n",
        "        corners = [(0,0),(0,self.board.size), (self.board.size,0), (self.board.size,self.board.size)]\n",
        "        #if player is in corner, can it move? if goal is in corner, is it blocked?\n",
        "        if player.pos in corners or goal.pos in corners:\n",
        "            val_move_pl = [self.validateMove('Player', addpos) for addpos in [(0,1),(1,0),(-1,0),(0,-1)]]\n",
        "            val_move_go = [self.validateMove('Goal', addpos) for addpos in [(0,1),(1,0),(-1,0),(0,-1)]]\n",
        "            if 0 not in val_move_pl or 0 not in val_move_go:\n",
        "                #print(self.display())\n",
        "                #print(\"Invalid board. Re-initializing...\")\n",
        "                valid = False\n",
        "\n",
        "        return valid\n",
        "\n",
        "    #Initialize player in random location, but keep wall, goal and pit stationary\n",
        "    def initGridPlayer(self):\n",
        "        #height x width x depth (number of pieces)\n",
        "        self.initGridStatic()\n",
        "        #place player\n",
        "        self.board.components['Player'].pos = randPair(0,self.board.size)\n",
        "\n",
        "        if (not self.validateBoard()):\n",
        "            #print('Invalid grid. Rebuilding..')\n",
        "            self.initGridPlayer()\n",
        "\n",
        "    #Initialize grid so that goal, pit, wall, player are all randomly placed\n",
        "    def initGridRand(self):\n",
        "        #height x width x depth (number of pieces)\n",
        "        self.board.components['Player'].pos = randPair(0,self.board.size)\n",
        "        self.board.components['Goal'].pos = randPair(0,self.board.size)\n",
        "        self.board.components['Pit'].pos = randPair(0,self.board.size)\n",
        "        self.board.components['Wall'].pos = randPair(0,self.board.size)\n",
        "\n",
        "        if (not self.validateBoard()):\n",
        "            #print('Invalid grid. Rebuilding..')\n",
        "            self.initGridRand()\n",
        "\n",
        "    def validateMove(self, piece, addpos=(0,0)):\n",
        "        outcome = 0 #0 is valid, 1 invalid, 2 lost game\n",
        "        pit = self.board.components['Pit'].pos\n",
        "        wall = self.board.components['Wall'].pos\n",
        "        new_pos = addTuple(self.board.components[piece].pos, addpos)\n",
        "        if new_pos == wall:\n",
        "            outcome = 1 #block move, player can't move to wall\n",
        "        elif max(new_pos) > (self.board.size-1):    #if outside bounds of board\n",
        "            outcome = 1\n",
        "        elif min(new_pos) < 0: #if outside bounds\n",
        "            outcome = 1\n",
        "        elif new_pos == pit:\n",
        "            outcome = 2\n",
        "\n",
        "        return outcome\n",
        "\n",
        "    def makeMove(self, action):\n",
        "        #need to determine what object (if any) is in the new grid spot the player is moving to\n",
        "        #actions in {u,d,l,r}\n",
        "        def checkMove(addpos):\n",
        "            if self.validateMove('Player', addpos) in [0,2]:\n",
        "                new_pos = addTuple(self.board.components['Player'].pos, addpos)\n",
        "                self.board.movePiece('Player', new_pos)\n",
        "\n",
        "        if action == 'u': #up\n",
        "            checkMove((-1,0))\n",
        "        elif action == 'd': #down\n",
        "            checkMove((1,0))\n",
        "        elif action == 'l': #left\n",
        "            checkMove((0,-1))\n",
        "        elif action == 'r': #right\n",
        "            checkMove((0,1))\n",
        "        else:\n",
        "            pass\n",
        "\n",
        "    def reward(self):\n",
        "        if (self.board.components['Player'].pos == self.board.components['Pit'].pos):\n",
        "            return -10\n",
        "        elif (self.board.components['Player'].pos == self.board.components['Goal'].pos):\n",
        "            return 10\n",
        "        else:\n",
        "            return -1\n",
        "\n",
        "    def display(self):\n",
        "        return self.board.render()"
      ],
      "metadata": {
        "id": "WTb98sjRPC-G"
      },
      "id": "WTb98sjRPC-G",
      "execution_count": null,
      "outputs": []
    },
    {
      "cell_type": "markdown",
      "id": "03cacf65",
      "metadata": {
        "pycharm": {
          "name": "#%% md\n"
        },
        "id": "03cacf65"
      },
      "source": [
        "# Gridworld check"
      ]
    },
    {
      "cell_type": "code",
      "execution_count": null,
      "id": "dfbc5de4",
      "metadata": {
        "pycharm": {
          "name": "#%%\n"
        },
        "colab": {
          "base_uri": "https://localhost:8080/"
        },
        "id": "dfbc5de4",
        "outputId": "85201727-4298-4584-c71a-e3a582dd03fc"
      },
      "outputs": [
        {
          "output_type": "execute_result",
          "data": {
            "text/plain": [
              "array([[[0, 0, 0, 0],\n",
              "        [0, 0, 0, 0],\n",
              "        [0, 0, 1, 0],\n",
              "        [0, 0, 0, 0]],\n",
              "\n",
              "       [[1, 0, 0, 0],\n",
              "        [0, 0, 0, 0],\n",
              "        [0, 0, 0, 0],\n",
              "        [0, 0, 0, 0]],\n",
              "\n",
              "       [[0, 1, 0, 0],\n",
              "        [0, 0, 0, 0],\n",
              "        [0, 0, 0, 0],\n",
              "        [0, 0, 0, 0]],\n",
              "\n",
              "       [[0, 0, 0, 0],\n",
              "        [0, 1, 0, 0],\n",
              "        [0, 0, 0, 0],\n",
              "        [0, 0, 0, 0]]], dtype=uint8)"
            ]
          },
          "metadata": {},
          "execution_count": 21
        }
      ],
      "source": []
    },
    {
      "cell_type": "markdown",
      "id": "98d3e400",
      "metadata": {
        "pycharm": {
          "name": "#%% md\n"
        },
        "id": "98d3e400"
      },
      "source": [
        "# Step01. DQN without experience replay (static mode)"
      ]
    },
    {
      "cell_type": "code",
      "execution_count": null,
      "id": "ba20cfbc",
      "metadata": {
        "pycharm": {
          "name": "#%%\n"
        },
        "id": "ba20cfbc",
        "colab": {
          "base_uri": "https://localhost:8080/"
        },
        "outputId": "6e3df115-d0c5-4930-a89e-acf2cd018502"
      },
      "outputs": [
        {
          "output_type": "stream",
          "name": "stdout",
          "text": [
            "Games played: 500, # of wins: 500\n",
            "Win percentage: 100.0%\n"
          ]
        }
      ],
      "source": []
    },
    {
      "cell_type": "markdown",
      "id": "2269bac8",
      "metadata": {
        "pycharm": {
          "name": "#%% md\n"
        },
        "id": "2269bac8"
      },
      "source": [
        "# Step2. DQN without replay buffer (random mode)"
      ]
    },
    {
      "cell_type": "code",
      "execution_count": null,
      "outputs": [
        {
          "output_type": "stream",
          "name": "stdout",
          "text": [
            "Games played: 500, # of wins: 112\n",
            "Win percentage: 22.400000000000002%\n"
          ]
        }
      ],
      "source": [],
      "metadata": {
        "pycharm": {
          "name": "#%%\n"
        },
        "id": "8UAY11HTvrqS",
        "colab": {
          "base_uri": "https://localhost:8080/"
        },
        "outputId": "747b9108-d77d-40e7-d4e2-f8ad4aa72eaf"
      },
      "id": "8UAY11HTvrqS"
    },
    {
      "cell_type": "markdown",
      "source": [
        "# Step3. DQN with replay buffer (Experience replay)"
      ],
      "metadata": {
        "collapsed": false,
        "pycharm": {
          "name": "#%% md\n"
        },
        "id": "XdZSg_DnvrqS"
      },
      "id": "XdZSg_DnvrqS"
    },
    {
      "cell_type": "code",
      "execution_count": null,
      "outputs": [
        {
          "output_type": "stream",
          "name": "stdout",
          "text": [
            "Games played: 500, # of wins: 216\n",
            "Win percentage: 43.2%\n"
          ]
        }
      ],
      "source": [],
      "metadata": {
        "pycharm": {
          "name": "#%%\n"
        },
        "id": "gTyWn7vSvrqT",
        "colab": {
          "base_uri": "https://localhost:8080/"
        },
        "outputId": "bd048ada-2f3b-4c3f-a800-c60de9d4a958"
      },
      "id": "gTyWn7vSvrqT"
    },
    {
      "cell_type": "markdown",
      "source": [
        "# Step4. Using target Net"
      ],
      "metadata": {
        "collapsed": false,
        "pycharm": {
          "name": "#%% md\n"
        },
        "id": "Tve9EMGUvrqT"
      },
      "id": "Tve9EMGUvrqT"
    },
    {
      "cell_type": "code",
      "execution_count": null,
      "id": "9d78b4ae",
      "metadata": {
        "pycharm": {
          "name": "#%%\n"
        },
        "id": "9d78b4ae",
        "colab": {
          "base_uri": "https://localhost:8080/"
        },
        "outputId": "5acef995-9045-4189-ed9f-4c3cd185e45d"
      },
      "outputs": [
        {
          "output_type": "stream",
          "name": "stdout",
          "text": [
            "Games played: 500, # of wins: 304\n",
            "Win percentage: 60.8%\n"
          ]
        }
      ],
      "source": []
    }
  ],
  "metadata": {
    "kernelspec": {
      "display_name": "Python 3 (ipykernel)",
      "language": "python",
      "name": "python3"
    },
    "language_info": {
      "codemirror_mode": {
        "name": "ipython",
        "version": 3
      },
      "file_extension": ".py",
      "mimetype": "text/x-python",
      "name": "python",
      "nbconvert_exporter": "python",
      "pygments_lexer": "ipython3",
      "version": "3.8.15"
    },
    "colab": {
      "provenance": [],
      "include_colab_link": true
    }
  },
  "nbformat": 4,
  "nbformat_minor": 5
}