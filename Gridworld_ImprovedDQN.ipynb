{
  "cells": [
    {
      "cell_type": "markdown",
      "metadata": {
        "id": "view-in-github",
        "colab_type": "text"
      },
      "source": [
        "<a href=\"https://colab.research.google.com/github/fistki/reinforcement/blob/main/Gridworld_ImprovedDQN.ipynb\" target=\"_parent\"><img src=\"https://colab.research.google.com/assets/colab-badge.svg\" alt=\"Open In Colab\"/></a>"
      ]
    },
    {
      "cell_type": "code",
      "execution_count": null,
      "id": "f28a99ea",
      "metadata": {
        "pycharm": {
          "is_executing": true,
          "name": "#%%\n"
        },
        "id": "f28a99ea"
      },
      "outputs": [],
      "source": [
        "import numpy as np\n",
        "import torch\n",
        "from IPython.display import clear_output\n",
        "\n",
        "import copy\n",
        "import random\n",
        "from matplotlib import pylab as plt\n",
        "\n",
        "from collections import deque"
      ]
    },
    {
      "cell_type": "markdown",
      "source": [
        "# Deep Learning Model"
      ],
      "metadata": {
        "id": "dOe89EzxQABi"
      },
      "id": "dOe89EzxQABi"
    },
    {
      "cell_type": "code",
      "source": [
        "import numpy as np\n",
        "import random\n",
        "import torch\n",
        "import torch.nn as nn\n",
        "from torch.nn import functional as F\n",
        "\n",
        "\n",
        "class ContextBandit:\n",
        "    def __init__(self, states=10, arms=10):\n",
        "        self.state = None\n",
        "        self.bandit_matrix = None\n",
        "        self.arms = arms\n",
        "        self.states = states\n",
        "        self.init_distribution(states, arms)\n",
        "        self.update_state()\n",
        "\n",
        "    def init_distribution(self, states, arms):\n",
        "        self.bandit_matrix = np.random.rand(states, arms)\n",
        "\n",
        "    def reward(self, prob):\n",
        "        reward = 0\n",
        "        for i in range(self.arms):\n",
        "            if random.random() < prob:\n",
        "                reward += 1\n",
        "        return reward\n",
        "\n",
        "    def get_state(self):\n",
        "        return self.state\n",
        "\n",
        "    def update_state(self):\n",
        "        self.state = np.random.randint(0, self.states)\n",
        "\n",
        "    def get_reward(self, arm):\n",
        "        return self.reward(self.bandit_matrix[self.get_state()][arm])\n",
        "\n",
        "    def choose_arm(self, arm):\n",
        "        reward = self.get_reward(arm)\n",
        "        self.update_state()\n",
        "        return reward\n",
        "\n",
        "\n",
        "class ContextBanditModel(nn.Module):\n",
        "    def __init__(self, states=10, arms=10, hidden=100):\n",
        "        super(ContextBanditModel, self).__init__()\n",
        "        self.states = states\n",
        "        self.arms = arms\n",
        "        self.hidden = hidden\n",
        "        self.l1 = nn.Linear(arms, hidden)\n",
        "        self.l2 = nn.Linear(hidden, arms)\n",
        "\n",
        "    def forward(self, x):\n",
        "        out = F.relu(self.l1(x))\n",
        "        out = F.relu(self.l2(out))\n",
        "\n",
        "        return out\n",
        "\n",
        "\n",
        "class MiniGridModel(nn.Module):\n",
        "    def __init__(self, l1_input=64, l1_output=150, l2_output=100, output=4):\n",
        "        super(MiniGridModel, self).__init__()\n",
        "        self.l1_input = l1_input\n",
        "        self.l1_output = l1_output\n",
        "        self.l2_output = l2_output\n",
        "        self.output = output\n",
        "\n",
        "        self.l1 = nn.Linear(l1_input, l1_output)\n",
        "        self.l2 = nn.Linear(l1_output, l2_output)\n",
        "        self.l3 = nn.Linear(l2_output, output)\n",
        "\n",
        "    def forward(self, x):\n",
        "        out = F.relu(self.l1(x))\n",
        "        out = F.relu(self.l2(out))\n",
        "        out = self.l3(out)\n",
        "        return out\n",
        "\n",
        "\n",
        "class Reinforce(nn.Module):\n",
        "    def __init__(self):\n",
        "        super(Reinforce, self).__init__()\n",
        "\n",
        "        self.agent = nn.Sequential(\n",
        "            nn.Linear(4, 150),\n",
        "            nn.LeakyReLU(),\n",
        "            nn.Linear(150, 2),\n",
        "            nn.Softmax(dim=0)\n",
        "        )\n",
        "\n",
        "    def forward(self, x):\n",
        "        out = self.agent(x)\n",
        "        return out\n",
        "\n",
        "\n",
        "class ActorCritic(nn.Module):\n",
        "    def __init__(self):\n",
        "        super(ActorCritic, self).__init__()\n",
        "        self.l1 = nn.Linear(4, 25)\n",
        "        self.l2 = nn.Linear(25, 50)\n",
        "        self.actor_lin1 = nn.Linear(50, 2)\n",
        "        self.l3 = nn.Linear(50, 25)\n",
        "        self.critic_lin1 = nn.Linear(25, 1)\n",
        "\n",
        "    def forward(self, x):\n",
        "        x = F.normalize(x, dim=0)\n",
        "        y = F.relu(self.l1(x))\n",
        "        y = F.relu(self.l2(y))\n",
        "        actor = F.log_softmax(self.actor_lin1(y), dim=0)\n",
        "\n",
        "        c = F.relu(self.l3(y.detach()))\n",
        "        critic = torch.tanh(self.critic_lin1(c))\n",
        "        return actor, critic\n",
        "\n",
        "\n",
        "class Genetic(nn.Module):\n",
        "    def __init__(self):\n",
        "        super(Genetic, self).__init__()\n",
        "\n",
        "        self.agent = nn.Sequential(\n",
        "            nn.Linear(4, 25),\n",
        "            nn.ReLU(),\n",
        "            nn.Linear(25, 10),\n",
        "            nn.ReLU(),\n",
        "            nn.Linear(10, 2),\n",
        "        )\n",
        "\n",
        "    def forward(self, x):\n",
        "        out = self.agent(x)\n",
        "        out = F.log_softmax(out, dim=0)\n",
        "\n",
        "        return out"
      ],
      "metadata": {
        "id": "bNWyOc1zPYej"
      },
      "id": "bNWyOc1zPYej",
      "execution_count": null,
      "outputs": []
    },
    {
      "cell_type": "markdown",
      "source": [
        "# Utils"
      ],
      "metadata": {
        "id": "vJ6Hcq5FQEgF"
      },
      "id": "vJ6Hcq5FQEgF"
    },
    {
      "cell_type": "code",
      "source": [
        "import numpy as np\n",
        "from matplotlib import pyplot as plt\n",
        "\n",
        "# from JSAnimation.IPython_display import display_animation\n",
        "from matplotlib import animation\n",
        "# from IPython.display import HTML\n",
        "from IPython import display\n",
        "import torch\n",
        "\n",
        "\n",
        "def running_mean(x, N=50):\n",
        "    kernel = np.ones(N)\n",
        "    conv_len = x.shape[0]-N\n",
        "    y = np.zeros(conv_len)\n",
        "    for i in range(conv_len):\n",
        "        y[i] = kernel @ x[i:i+N]\n",
        "        y[i] /= N\n",
        "    return y\n",
        "\n",
        "\n",
        "def display_frames_as_gif(frames):\n",
        "    \"\"\"\n",
        "    Displays a list of frames as a gif, with controls\n",
        "    \"\"\"\n",
        "    patch = plt.imshow(frames[0][0])\n",
        "    plt.axis('off')\n",
        "\n",
        "    def animate(i):\n",
        "        patch.set_data(frames[i][0])\n",
        "\n",
        "    anim = animation.FuncAnimation(plt.gcf(), animate, frames=len(frames), interval=10)\n",
        "\n",
        "    video = anim.to_html5_video()\n",
        "    html = display.HTML(video)\n",
        "    display.display(html)\n",
        "    plt.close()\n",
        "\n",
        "\n",
        "def minigrid_test_model(env, model, mode='static', loss_lim=15, display=True):\n",
        "    action_set = {\n",
        "        0: 'u',\n",
        "        1: 'd',\n",
        "        2: 'l',\n",
        "        3: 'r',\n",
        "    }\n",
        "\n",
        "    i = 0\n",
        "    test_game = env(mode=mode)\n",
        "    state = test_game.board.render_np().reshape(1, 64) + np.random.rand(1, 64) / 10.0\n",
        "    state = torch.from_numpy(state).float()\n",
        "\n",
        "    if display:\n",
        "        print(\"Initial State:\")\n",
        "        print(test_game.display())\n",
        "\n",
        "    status = 1\n",
        "    while status == 1:\n",
        "        qval = model(state)\n",
        "        qval_ = qval.data.numpy()\n",
        "        action_ = np.argmax(qval_)\n",
        "        action = action_set[action_]\n",
        "\n",
        "        if display:\n",
        "            print('Move #: %s; Taking action: %s' % (i, action))\n",
        "        test_game.makeMove(action)\n",
        "\n",
        "        state_ = test_game.board.render_np().reshape(1, 64) + np.random.rand(1, 64) / 10.0\n",
        "        state = torch.from_numpy(state_).float()\n",
        "\n",
        "        if display:\n",
        "            print(test_game.display())\n",
        "        reward = test_game.reward()\n",
        "        if reward != -1:\n",
        "            if reward > 0:\n",
        "                status = 2\n",
        "                if display:\n",
        "                    print(\"Game won! Reward: %s\" % (reward,))\n",
        "            else:\n",
        "                status = 0\n",
        "                if display:\n",
        "                    print(\"Game LOST. Reward: %s\" % (reward,))\n",
        "        i += 1\n",
        "\n",
        "        if i > loss_lim:\n",
        "            if display:\n",
        "                print(\"Game lost; too many moves.\")\n",
        "            break\n",
        "\n",
        "    win = True if status == 2 else False\n",
        "    return win\n",
        "\n",
        "\n",
        "def cartpole_train_graph(score):\n",
        "    score = np.array(score)\n",
        "    avg_score = running_mean(score, 50)\n",
        "    plt.figure(figsize=(10, 7))\n",
        "    plt.ylabel(\"Episode Duration\", fontsize=22)\n",
        "    plt.xlabel(\"Training Epochs\", fontsize=22)\n",
        "    plt.plot(avg_score, color='green')\n",
        "\n",
        "\n",
        "def cartpole_test_scatter(env, model, MAX_DUR=500):\n",
        "    score = []\n",
        "    games = 100\n",
        "    done = False\n",
        "    state1 = env.reset()\n",
        "    for i in range(games):\n",
        "        t = 0\n",
        "        while not done:\n",
        "            pred = model(torch.from_numpy(state1).float())\n",
        "            action = np.random.choice(np.array([0, 1]), p=pred.data.numpy())\n",
        "            state2, reward, done, truncated = env.step(action)\n",
        "            state1 = state2\n",
        "            t += 1\n",
        "            if t > MAX_DUR:\n",
        "                break\n",
        "\n",
        "        state1 = env.reset()\n",
        "        done = False\n",
        "        score.append(t)\n",
        "    score = np.array(score)\n",
        "    plt.scatter(np.arange(score.shape[0]), score)\n",
        "\n",
        "\n",
        "def cartpole_test_scatter_a2c(env, model, MAX_DUR=500):\n",
        "    score = []\n",
        "    games = 100\n",
        "    done = False\n",
        "    state1 = env.reset()\n",
        "\n",
        "    for i in range(games):\n",
        "        t = 0\n",
        "        while not done:\n",
        "            logits, value = model(torch.from_numpy(state1).float())\n",
        "            action_dist = torch.distributions.Categorical(logits=logits)\n",
        "            action = action_dist.sample()\n",
        "            state2, reward, done, truncated = env.step(action.detach().numpy())\n",
        "            state1 = state2\n",
        "\n",
        "            t += 1\n",
        "            if t > MAX_DUR:\n",
        "                break\n",
        "\n",
        "        state1 = env.reset()\n",
        "        done = False\n",
        "        score.append(t)\n",
        "\n",
        "    score = np.array(score)\n",
        "    plt.scatter(np.arange(score.shape[0]), score)\n",
        "\n",
        "\n",
        "def cartpole_test_video(env, model, MAX_DUR=500):\n",
        "    done = False\n",
        "    frames = []\n",
        "    t = 0\n",
        "    state1 = env.reset()\n",
        "    while not done:\n",
        "        frames.append(env.render())\n",
        "        pred = model(torch.from_numpy(state1).float())\n",
        "        action = np.random.choice(np.array([0, 1]), p=pred.data.numpy())\n",
        "        state2, reward, done, truncated = env.step(action)\n",
        "        state1 = state2\n",
        "        t += 1\n",
        "        if t > MAX_DUR:  # L\n",
        "            break\n",
        "\n",
        "    env.close()\n",
        "    print(f\"Episode length : {t}\")\n",
        "\n",
        "    display_frames_as_gif(frames)\n",
        "\n",
        "\n",
        "def cartpole_test_video_a2c(env, model, MAX_DUR=500):\n",
        "    done = False\n",
        "    frames = []\n",
        "    t = 0\n",
        "    state1 = env.reset()\n",
        "\n",
        "    while not done:\n",
        "        frames.append(env.render())\n",
        "        logits, value = model(torch.from_numpy(state1).float())\n",
        "        action_dist = torch.distributions.Categorical(logits=logits)\n",
        "        action = action_dist.sample()\n",
        "        state2, reward, done, truncated = env.step(action.detach().numpy())\n",
        "        state1 = state2\n",
        "        t += 1\n",
        "        if t > MAX_DUR:  # L\n",
        "            break\n",
        "\n",
        "    env.close()\n",
        "    print(f\"Episode length : {t}\")\n",
        "\n",
        "    display_frames_as_gif(frames)"
      ],
      "metadata": {
        "id": "p8V2uI_-PFqQ"
      },
      "id": "p8V2uI_-PFqQ",
      "execution_count": null,
      "outputs": []
    },
    {
      "cell_type": "markdown",
      "source": [
        "# GridWorld"
      ],
      "metadata": {
        "id": "KHFisyesP7GF"
      },
      "id": "KHFisyesP7GF"
    },
    {
      "cell_type": "code",
      "source": [
        "import numpy as np\n",
        "import random\n",
        "import sys\n",
        "\n",
        "def randPair(s,e):\n",
        "    return np.random.randint(s,e), np.random.randint(s,e)\n",
        "\n",
        "class BoardPiece:\n",
        "\n",
        "    def __init__(self, name, code, pos):\n",
        "        self.name = name #name of the piece\n",
        "        self.code = code #an ASCII character to display on the board\n",
        "        self.pos = pos #2-tuple e.g. (1,4)\n",
        "\n",
        "class BoardMask:\n",
        "\n",
        "    def __init__(self, name, mask, code):\n",
        "        self.name = name\n",
        "        self.mask = mask\n",
        "        self.code = code\n",
        "\n",
        "    def get_positions(self): #returns tuple of arrays\n",
        "        return np.nonzero(self.mask)\n",
        "\n",
        "def zip_positions2d(positions): #positions is tuple of two arrays\n",
        "    x,y = positions\n",
        "    return list(zip(x,y))\n",
        "\n",
        "class GridBoard:\n",
        "\n",
        "    def __init__(self, size=4):\n",
        "        self.size = size #Board dimensions, e.g. 4 x 4\n",
        "        self.components = {} #name : board piece\n",
        "        self.masks = {}\n",
        "\n",
        "    def addPiece(self, name, code, pos=(0,0)):\n",
        "        newPiece = BoardPiece(name, code, pos)\n",
        "        self.components[name] = newPiece\n",
        "\n",
        "    #basically a set of boundary elements\n",
        "    def addMask(self, name, mask, code):\n",
        "        #mask is a 2D-numpy array with 1s where the boundary elements are\n",
        "        newMask = BoardMask(name, mask, code)\n",
        "        self.masks[name] = newMask\n",
        "\n",
        "    def movePiece(self, name, pos):\n",
        "        move = True\n",
        "        for _, mask in self.masks.items():\n",
        "            if pos in zip_positions2d(mask.get_positions()):\n",
        "                move = False\n",
        "        if move:\n",
        "            self.components[name].pos = pos\n",
        "\n",
        "    def delPiece(self, name):\n",
        "        del self.components['name']\n",
        "\n",
        "    def render(self):\n",
        "        dtype = '<U2'\n",
        "        displ_board = np.zeros((self.size, self.size), dtype=dtype)\n",
        "        displ_board[:] = ' '\n",
        "\n",
        "        for name, piece in self.components.items():\n",
        "            displ_board[piece.pos] = piece.code\n",
        "\n",
        "        for name, mask in self.masks.items():\n",
        "            displ_board[mask.get_positions()] = mask.code\n",
        "\n",
        "        return displ_board\n",
        "\n",
        "    def render_np(self):\n",
        "        num_pieces = len(self.components) + len(self.masks)\n",
        "        displ_board = np.zeros((num_pieces, self.size, self.size), dtype=np.uint8)\n",
        "        layer = 0\n",
        "        for name, piece in self.components.items():\n",
        "            pos = (layer,) + piece.pos\n",
        "            displ_board[pos] = 1\n",
        "            layer += 1\n",
        "\n",
        "        for name, mask in self.masks.items():\n",
        "            x,y = self.masks['boundary'].get_positions()\n",
        "            z = np.repeat(layer,len(x))\n",
        "            a = (z,x,y)\n",
        "            displ_board[a] = 1\n",
        "            layer += 1\n",
        "        return displ_board\n",
        "\n",
        "def addTuple(a,b):\n",
        "    return tuple([sum(x) for x in zip(a,b)])\n",
        "\n",
        "\n",
        "class Gridworld:\n",
        "\n",
        "    def __init__(self, size=4, mode='static'):\n",
        "        if size >= 4:\n",
        "            self.board = GridBoard(size=size)\n",
        "        else:\n",
        "            print(\"Minimum board size is 4. Initialized to size 4.\")\n",
        "            self.board = GridBoard(size=4)\n",
        "\n",
        "        #Add pieces, positions will be updated later\n",
        "        self.board.addPiece('Player','P',(0,0))\n",
        "        self.board.addPiece('Goal','+',(1,0))\n",
        "        self.board.addPiece('Pit','-',(2,0))\n",
        "        self.board.addPiece('Wall','W',(3,0))\n",
        "\n",
        "        if mode == 'static':\n",
        "            self.initGridStatic()\n",
        "        elif mode == 'player':\n",
        "            self.initGridPlayer()\n",
        "        else:\n",
        "            self.initGridRand()\n",
        "\n",
        "    #Initialize stationary grid, all items are placed deterministically\n",
        "    def initGridStatic(self):\n",
        "        #Setup static pieces\n",
        "        self.board.components['Player'].pos = (0,3) #Row, Column\n",
        "        self.board.components['Goal'].pos = (0,0)\n",
        "        self.board.components['Pit'].pos = (0,1)\n",
        "        self.board.components['Wall'].pos = (1,1)\n",
        "\n",
        "    #Check if board is initialized appropriately (no overlapping pieces)\n",
        "    #also remove impossible-to-win boards\n",
        "    def validateBoard(self):\n",
        "        valid = True\n",
        "\n",
        "        player = self.board.components['Player']\n",
        "        goal = self.board.components['Goal']\n",
        "        wall = self.board.components['Wall']\n",
        "        pit = self.board.components['Pit']\n",
        "\n",
        "        all_positions = [piece for name,piece in self.board.components.items()]\n",
        "        all_positions = [player.pos, goal.pos, wall.pos, pit.pos]\n",
        "        if len(all_positions) > len(set(all_positions)):\n",
        "            return False\n",
        "\n",
        "        corners = [(0,0),(0,self.board.size), (self.board.size,0), (self.board.size,self.board.size)]\n",
        "        #if player is in corner, can it move? if goal is in corner, is it blocked?\n",
        "        if player.pos in corners or goal.pos in corners:\n",
        "            val_move_pl = [self.validateMove('Player', addpos) for addpos in [(0,1),(1,0),(-1,0),(0,-1)]]\n",
        "            val_move_go = [self.validateMove('Goal', addpos) for addpos in [(0,1),(1,0),(-1,0),(0,-1)]]\n",
        "            if 0 not in val_move_pl or 0 not in val_move_go:\n",
        "                #print(self.display())\n",
        "                #print(\"Invalid board. Re-initializing...\")\n",
        "                valid = False\n",
        "\n",
        "        return valid\n",
        "\n",
        "    #Initialize player in random location, but keep wall, goal and pit stationary\n",
        "    def initGridPlayer(self):\n",
        "        #height x width x depth (number of pieces)\n",
        "        self.initGridStatic()\n",
        "        #place player\n",
        "        self.board.components['Player'].pos = randPair(0,self.board.size)\n",
        "\n",
        "        if (not self.validateBoard()):\n",
        "            #print('Invalid grid. Rebuilding..')\n",
        "            self.initGridPlayer()\n",
        "\n",
        "    #Initialize grid so that goal, pit, wall, player are all randomly placed\n",
        "    def initGridRand(self):\n",
        "        #height x width x depth (number of pieces)\n",
        "        self.board.components['Player'].pos = randPair(0,self.board.size)\n",
        "        self.board.components['Goal'].pos = randPair(0,self.board.size)\n",
        "        self.board.components['Pit'].pos = randPair(0,self.board.size)\n",
        "        self.board.components['Wall'].pos = randPair(0,self.board.size)\n",
        "\n",
        "        if (not self.validateBoard()):\n",
        "            #print('Invalid grid. Rebuilding..')\n",
        "            self.initGridRand()\n",
        "\n",
        "    def validateMove(self, piece, addpos=(0,0)):\n",
        "        outcome = 0 #0 is valid, 1 invalid, 2 lost game\n",
        "        pit = self.board.components['Pit'].pos\n",
        "        wall = self.board.components['Wall'].pos\n",
        "        new_pos = addTuple(self.board.components[piece].pos, addpos)\n",
        "        if new_pos == wall:\n",
        "            outcome = 1 #block move, player can't move to wall\n",
        "        elif max(new_pos) > (self.board.size-1):    #if outside bounds of board\n",
        "            outcome = 1\n",
        "        elif min(new_pos) < 0: #if outside bounds\n",
        "            outcome = 1\n",
        "        elif new_pos == pit:\n",
        "            outcome = 2\n",
        "\n",
        "        return outcome\n",
        "\n",
        "    def makeMove(self, action):\n",
        "        #need to determine what object (if any) is in the new grid spot the player is moving to\n",
        "        #actions in {u,d,l,r}\n",
        "        def checkMove(addpos):\n",
        "            if self.validateMove('Player', addpos) in [0,2]:\n",
        "                new_pos = addTuple(self.board.components['Player'].pos, addpos)\n",
        "                self.board.movePiece('Player', new_pos)\n",
        "\n",
        "        if action == 'u': #up\n",
        "            checkMove((-1,0))\n",
        "        elif action == 'd': #down\n",
        "            checkMove((1,0))\n",
        "        elif action == 'l': #left\n",
        "            checkMove((0,-1))\n",
        "        elif action == 'r': #right\n",
        "            checkMove((0,1))\n",
        "        else:\n",
        "            pass\n",
        "\n",
        "    def reward(self):\n",
        "        if (self.board.components['Player'].pos == self.board.components['Pit'].pos):\n",
        "            return -10\n",
        "        elif (self.board.components['Player'].pos == self.board.components['Goal'].pos):\n",
        "            return 10\n",
        "        else:\n",
        "            return -1\n",
        "\n",
        "    def display(self):\n",
        "        return self.board.render()"
      ],
      "metadata": {
        "id": "WTb98sjRPC-G"
      },
      "id": "WTb98sjRPC-G",
      "execution_count": null,
      "outputs": []
    },
    {
      "cell_type": "markdown",
      "id": "03cacf65",
      "metadata": {
        "pycharm": {
          "name": "#%% md\n"
        },
        "id": "03cacf65"
      },
      "source": [
        "# Gridworld check"
      ]
    },
    {
      "cell_type": "code",
      "execution_count": null,
      "id": "d578ad39",
      "metadata": {
        "pycharm": {
          "name": "#%%\n"
        },
        "colab": {
          "base_uri": "https://localhost:8080/"
        },
        "id": "d578ad39",
        "outputId": "f1ab3e8d-ed99-4ccb-80c5-c27ea6b2cd79"
      },
      "outputs": [
        {
          "output_type": "execute_result",
          "data": {
            "text/plain": [
              "array([['+', '-', ' ', 'P'],\n",
              "       [' ', 'W', ' ', ' '],\n",
              "       [' ', ' ', ' ', ' '],\n",
              "       [' ', ' ', ' ', ' ']], dtype='<U2')"
            ]
          },
          "metadata": {},
          "execution_count": 18
        }
      ],
      "source": [
        "# Initial state\n",
        "game = Gridworld(size=4, mode='static')\n",
        "game.display()"
      ]
    },
    {
      "cell_type": "code",
      "execution_count": null,
      "id": "2e56b02b",
      "metadata": {
        "pycharm": {
          "name": "#%%\n"
        },
        "colab": {
          "base_uri": "https://localhost:8080/"
        },
        "id": "2e56b02b",
        "outputId": "6f8aa083-6bda-448b-a19e-96aa8d763aa8"
      },
      "outputs": [
        {
          "output_type": "execute_result",
          "data": {
            "text/plain": [
              "array([['+', '-', ' ', ' '],\n",
              "       [' ', 'W', ' ', ' '],\n",
              "       [' ', ' ', 'P', ' '],\n",
              "       [' ', ' ', ' ', ' ']], dtype='<U2')"
            ]
          },
          "metadata": {},
          "execution_count": 19
        }
      ],
      "source": [
        "# Action(move)\n",
        "game.makeMove('d')\n",
        "game.makeMove('d')\n",
        "game.makeMove('l')\n",
        "game.display()"
      ]
    },
    {
      "cell_type": "code",
      "execution_count": null,
      "id": "dd56ba1b",
      "metadata": {
        "pycharm": {
          "name": "#%%\n"
        },
        "colab": {
          "base_uri": "https://localhost:8080/"
        },
        "id": "dd56ba1b",
        "outputId": "8756b9fa-2dad-4e45-d8b5-69317be1e00c"
      },
      "outputs": [
        {
          "output_type": "stream",
          "name": "stdout",
          "text": [
            "Reward : -1\n"
          ]
        }
      ],
      "source": [
        "# Reward (case of unterminated state)\n",
        "print(f\"Reward : {game.reward()}\")"
      ]
    },
    {
      "cell_type": "code",
      "execution_count": null,
      "id": "dfbc5de4",
      "metadata": {
        "pycharm": {
          "name": "#%%\n"
        },
        "colab": {
          "base_uri": "https://localhost:8080/"
        },
        "id": "dfbc5de4",
        "outputId": "85201727-4298-4584-c71a-e3a582dd03fc"
      },
      "outputs": [
        {
          "output_type": "execute_result",
          "data": {
            "text/plain": [
              "array([[[0, 0, 0, 0],\n",
              "        [0, 0, 0, 0],\n",
              "        [0, 0, 1, 0],\n",
              "        [0, 0, 0, 0]],\n",
              "\n",
              "       [[1, 0, 0, 0],\n",
              "        [0, 0, 0, 0],\n",
              "        [0, 0, 0, 0],\n",
              "        [0, 0, 0, 0]],\n",
              "\n",
              "       [[0, 1, 0, 0],\n",
              "        [0, 0, 0, 0],\n",
              "        [0, 0, 0, 0],\n",
              "        [0, 0, 0, 0]],\n",
              "\n",
              "       [[0, 0, 0, 0],\n",
              "        [0, 1, 0, 0],\n",
              "        [0, 0, 0, 0],\n",
              "        [0, 0, 0, 0]]], dtype=uint8)"
            ]
          },
          "metadata": {},
          "execution_count": 21
        }
      ],
      "source": [
        "# Express the current state as a frame\n",
        "game.board.render_np()"
      ]
    },
    {
      "cell_type": "code",
      "execution_count": null,
      "id": "50b93471",
      "metadata": {
        "pycharm": {
          "name": "#%%\n"
        },
        "colab": {
          "base_uri": "https://localhost:8080/"
        },
        "id": "50b93471",
        "outputId": "aaca2ca2-c0e4-42fa-bf20-9945e5b2deeb"
      },
      "outputs": [
        {
          "output_type": "execute_result",
          "data": {
            "text/plain": [
              "(4, 4, 4)"
            ]
          },
          "metadata": {},
          "execution_count": 22
        }
      ],
      "source": [
        "np.shape(game.board.render_np())"
      ]
    },
    {
      "cell_type": "code",
      "execution_count": null,
      "id": "f4c0ea34",
      "metadata": {
        "pycharm": {
          "name": "#%%\n"
        },
        "id": "f4c0ea34"
      },
      "outputs": [],
      "source": [
        "# action mapping\n",
        "action_set = {\n",
        "    0: 'u',\n",
        "    1: 'd',\n",
        "    2: 'l',\n",
        "    3: 'r',\n",
        "}"
      ]
    },
    {
      "cell_type": "markdown",
      "id": "98d3e400",
      "metadata": {
        "pycharm": {
          "name": "#%% md\n"
        },
        "id": "98d3e400"
      },
      "source": [
        "# Step01. DQN without experience replay (static mode)"
      ]
    },
    {
      "cell_type": "code",
      "execution_count": null,
      "id": "ad80beaa",
      "metadata": {
        "pycharm": {
          "name": "#%%\n"
        },
        "id": "ad80beaa"
      },
      "outputs": [],
      "source": [
        "# l1_input = state , output = Q value of action\n",
        "model = MiniGridModel(l1_input=64, l1_output=150, l2_output=100, output=4)\n",
        "model\n",
        "\n",
        "loss_fn = torch.nn.MSELoss()\n",
        "learning_rate = 1e-3\n",
        "optimizer = torch.optim.Adam(model.parameters(), lr=learning_rate)\n",
        "\n",
        "# gamma = discount factor\n",
        "gamma = 0.9\n",
        "# epsilon = epsilon greedy policy parameter\n",
        "epsilon = 1.0"
      ]
    },
    {
      "cell_type": "code",
      "execution_count": null,
      "id": "91f0c73d",
      "metadata": {
        "pycharm": {
          "name": "#%%\n"
        },
        "colab": {
          "base_uri": "https://localhost:8080/"
        },
        "id": "91f0c73d",
        "outputId": "411f08e8-acff-4af1-d305-b0530c08dbb7"
      },
      "outputs": [
        {
          "output_type": "stream",
          "name": "stdout",
          "text": [
            "499 0.00025267782621085644\n"
          ]
        }
      ],
      "source": [
        "epochs = 500 # 2000\n",
        "losses = []\n",
        "for i in range(epochs):\n",
        "    game = Gridworld(size=4, mode='static')\n",
        "    current_state = game.board.render_np().reshape(1,64) + np.random.rand(1,64)/10.0\n",
        "    current_state = torch.from_numpy(current_state).float()\n",
        "\n",
        "    # status == 1 : Unterminated status\n",
        "    status = 1\n",
        "\n",
        "    while status == 1:\n",
        "        q_value = model(current_state)\n",
        "\n",
        "        # Policy (Epsilon greedy)\n",
        "        if random.random() < epsilon:\n",
        "            action_idx = np.random.randint(0,4)\n",
        "        else:\n",
        "            action_idx = torch.argmax(q_value).item()\n",
        "\n",
        "        # Action mapping\n",
        "        action = action_set[action_idx]\n",
        "        game.makeMove(action)\n",
        "\n",
        "        # Next state\n",
        "        next_state = game.board.render_np().reshape(1,64) + np.random.rand(1,64)/10.0\n",
        "        next_state = torch.from_numpy(next_state).float()\n",
        "        reward = game.reward()\n",
        "\n",
        "        # Target Q value\n",
        "        with torch.no_grad():\n",
        "            newQ = model(next_state.reshape(1,64))\n",
        "        maxQ = torch.max(newQ)\n",
        "\n",
        "        if reward == -1:\n",
        "            Y = reward + (gamma * maxQ)\n",
        "        else:\n",
        "            Y = reward\n",
        "\n",
        "        Y = torch.Tensor([Y]).detach()\n",
        "        X = q_value.squeeze()[action_idx]\n",
        "        loss = loss_fn(X, Y)\n",
        "\n",
        "        print(i, loss.item())\n",
        "\n",
        "        clear_output(wait=True)\n",
        "\n",
        "        # Q value Update\n",
        "        optimizer.zero_grad()\n",
        "        loss.backward()\n",
        "        losses.append(loss.item())\n",
        "        optimizer.step()\n",
        "\n",
        "        current_state = next_state\n",
        "\n",
        "        # Terminated condition\n",
        "        if reward != -1:\n",
        "            status = 0\n",
        "\n",
        "    if epsilon > 0.1:\n",
        "        epsilon -= (1/epochs)"
      ]
    },
    {
      "cell_type": "code",
      "execution_count": null,
      "id": "f843f58c",
      "metadata": {
        "pycharm": {
          "name": "#%%\n"
        },
        "id": "f843f58c",
        "colab": {
          "base_uri": "https://localhost:8080/",
          "height": 651
        },
        "outputId": "2e29dd3c-870d-48cd-8e5e-b8817497f616"
      },
      "outputs": [
        {
          "output_type": "execute_result",
          "data": {
            "text/plain": [
              "Text(0, 0.5, 'Loss')"
            ]
          },
          "metadata": {},
          "execution_count": 26
        },
        {
          "output_type": "display_data",
          "data": {
            "text/plain": [
              "<Figure size 1000x700 with 1 Axes>"
            ],
            "image/png": "[encoded data removed]"
          },
          "metadata": {}
        }
      ],
      "source": [
        "plt.figure(figsize=(10,7))\n",
        "plt.plot(losses)\n",
        "plt.xlabel(\"Epochs\",fontsize=22)\n",
        "plt.ylabel(\"Loss\",fontsize=22)"
      ]
    },
    {
      "cell_type": "code",
      "execution_count": null,
      "id": "96ca486f",
      "metadata": {
        "pycharm": {
          "name": "#%%\n"
        },
        "id": "96ca486f",
        "colab": {
          "base_uri": "https://localhost:8080/"
        },
        "outputId": "3be8affb-7bda-4e2f-85e6-ff2548a5c0a7"
      },
      "outputs": [
        {
          "output_type": "stream",
          "name": "stdout",
          "text": [
            "Initial State:\n",
            "[['+' '-' ' ' 'P']\n",
            " [' ' 'W' ' ' ' ']\n",
            " [' ' ' ' ' ' ' ']\n",
            " [' ' ' ' ' ' ' ']]\n",
            "Move #: 0; Taking action: l\n",
            "[['+' '-' 'P' ' ']\n",
            " [' ' 'W' ' ' ' ']\n",
            " [' ' ' ' ' ' ' ']\n",
            " [' ' ' ' ' ' ' ']]\n",
            "Move #: 1; Taking action: d\n",
            "[['+' '-' ' ' ' ']\n",
            " [' ' 'W' 'P' ' ']\n",
            " [' ' ' ' ' ' ' ']\n",
            " [' ' ' ' ' ' ' ']]\n",
            "Move #: 2; Taking action: d\n",
            "[['+' '-' ' ' ' ']\n",
            " [' ' 'W' ' ' ' ']\n",
            " [' ' ' ' 'P' ' ']\n",
            " [' ' ' ' ' ' ' ']]\n",
            "Move #: 3; Taking action: l\n",
            "[['+' '-' ' ' ' ']\n",
            " [' ' 'W' ' ' ' ']\n",
            " [' ' 'P' ' ' ' ']\n",
            " [' ' ' ' ' ' ' ']]\n",
            "Move #: 4; Taking action: l\n",
            "[['+' '-' ' ' ' ']\n",
            " [' ' 'W' ' ' ' ']\n",
            " ['P' ' ' ' ' ' ']\n",
            " [' ' ' ' ' ' ' ']]\n",
            "Move #: 5; Taking action: u\n",
            "[['+' '-' ' ' ' ']\n",
            " ['P' 'W' ' ' ' ']\n",
            " [' ' ' ' ' ' ' ']\n",
            " [' ' ' ' ' ' ' ']]\n",
            "Move #: 6; Taking action: u\n",
            "[['+' '-' ' ' ' ']\n",
            " [' ' 'W' ' ' ' ']\n",
            " [' ' ' ' ' ' ' ']\n",
            " [' ' ' ' ' ' ' ']]\n",
            "Game won! Reward: 10\n"
          ]
        },
        {
          "output_type": "execute_result",
          "data": {
            "text/plain": [
              "True"
            ]
          },
          "metadata": {},
          "execution_count": 27
        }
      ],
      "source": [
        "minigrid_test_model(Gridworld, model, mode='static', loss_lim=15)"
      ]
    },
    {
      "cell_type": "code",
      "execution_count": null,
      "id": "ba20cfbc",
      "metadata": {
        "pycharm": {
          "name": "#%%\n"
        },
        "id": "ba20cfbc",
        "colab": {
          "base_uri": "https://localhost:8080/"
        },
        "outputId": "6e3df115-d0c5-4930-a89e-acf2cd018502"
      },
      "outputs": [
        {
          "output_type": "stream",
          "name": "stdout",
          "text": [
            "Games played: 500, # of wins: 500\n",
            "Win percentage: 100.0%\n"
          ]
        }
      ],
      "source": [
        "max_games = 500 # 1000\n",
        "wins = 0\n",
        "for i in range(max_games):\n",
        "    win = minigrid_test_model(Gridworld, model, mode='static', display=False)\n",
        "    if win:\n",
        "        wins += 1\n",
        "win_perc = float(wins) / float(max_games)\n",
        "print(\"Games played: {0}, # of wins: {1}\".format(max_games,wins))\n",
        "print(\"Win percentage: {}%\".format(100.0*win_perc))"
      ]
    },
    {
      "cell_type": "markdown",
      "id": "2269bac8",
      "metadata": {
        "pycharm": {
          "name": "#%% md\n"
        },
        "id": "2269bac8"
      },
      "source": [
        "# Step2. DQN without replay buffer (random mode)"
      ]
    },
    {
      "cell_type": "code",
      "execution_count": null,
      "outputs": [],
      "source": [
        "model = MiniGridModel(l1_input=64, l1_output=150, l2_output=100, output=4)\n",
        "model\n",
        "\n",
        "loss_fn = torch.nn.MSELoss()\n",
        "learning_rate = 1e-3\n",
        "optimizer = torch.optim.Adam(model.parameters(), lr=learning_rate)\n",
        "\n",
        "# gamma = discount factor\n",
        "gamma = 0.9\n",
        "# epsilon = epsilon greedy policy parameter\n",
        "epsilon = 1.0"
      ],
      "metadata": {
        "pycharm": {
          "name": "#%%\n"
        },
        "id": "vDIqTKzIvrqS"
      },
      "id": "vDIqTKzIvrqS"
    },
    {
      "cell_type": "code",
      "execution_count": null,
      "outputs": [
        {
          "output_type": "stream",
          "name": "stdout",
          "text": [
            "499 22.422069549560547\n"
          ]
        }
      ],
      "source": [
        "epochs = 500 # 2000\n",
        "losses = []\n",
        "for i in range(epochs):\n",
        "    game = Gridworld(size=4, mode='random')\n",
        "    current_state = game.board.render_np().reshape(1,64) + np.random.rand(1,64)/10.0\n",
        "    current_state = torch.from_numpy(current_state).float()\n",
        "\n",
        "    # status == 1 : Unterminated status\n",
        "    status = 1\n",
        "\n",
        "    while status == 1:\n",
        "        q_value = model(current_state)\n",
        "\n",
        "        # Policy (Epsilon greedy)\n",
        "        if random.random() < epsilon:\n",
        "            action_idx = np.random.randint(0,4)\n",
        "        else:\n",
        "            action_idx = torch.argmax(q_value).item()\n",
        "\n",
        "        # Action mapping\n",
        "        action = action_set[action_idx]\n",
        "        game.makeMove(action)\n",
        "\n",
        "        # Next state\n",
        "        next_state = game.board.render_np().reshape(1,64) + np.random.rand(1,64)/10.0\n",
        "        next_state = torch.from_numpy(next_state).float()\n",
        "        reward = game.reward()\n",
        "\n",
        "        # Target Q value\n",
        "        with torch.no_grad():\n",
        "            newQ = model(next_state.reshape(1,64))\n",
        "        maxQ = torch.max(newQ)\n",
        "\n",
        "        if reward == -1:\n",
        "            Y = reward + (gamma * maxQ)\n",
        "        else:\n",
        "            Y = reward\n",
        "\n",
        "        Y = torch.Tensor([Y]).detach()\n",
        "        X = q_value.squeeze()[action_idx]\n",
        "        loss = loss_fn(X, Y)\n",
        "\n",
        "        print(i, loss.item())\n",
        "\n",
        "        clear_output(wait=True)\n",
        "\n",
        "        # Q value Update\n",
        "        optimizer.zero_grad()\n",
        "        loss.backward()\n",
        "        losses.append(loss.item())\n",
        "        optimizer.step()\n",
        "\n",
        "        current_state = next_state\n",
        "\n",
        "        # Terminated condition\n",
        "        if reward != -1:\n",
        "            status = 0\n",
        "\n",
        "    if epsilon > 0.1:\n",
        "        epsilon -= (1/epochs)"
      ],
      "metadata": {
        "pycharm": {
          "name": "#%%\n"
        },
        "id": "FI8XYSoovrqS",
        "colab": {
          "base_uri": "https://localhost:8080/"
        },
        "outputId": "c3cb6b7f-d142-4cd3-ad42-b300820c3a65"
      },
      "id": "FI8XYSoovrqS"
    },
    {
      "cell_type": "code",
      "execution_count": null,
      "outputs": [
        {
          "output_type": "execute_result",
          "data": {
            "text/plain": [
              "Text(0, 0.5, 'Loss')"
            ]
          },
          "metadata": {},
          "execution_count": 31
        },
        {
          "output_type": "display_data",
          "data": {
            "text/plain": [
              "<Figure size 1000x700 with 1 Axes>"
            ],
            "image/png": "[encoded data removed]"
          },
          "metadata": {}
        }
      ],
      "source": [
        "plt.figure(figsize=(10,7))\n",
        "plt.plot(losses)\n",
        "plt.xlabel(\"Epochs\",fontsize=22)\n",
        "plt.ylabel(\"Loss\",fontsize=22)"
      ],
      "metadata": {
        "pycharm": {
          "name": "#%%\n"
        },
        "id": "2DvoY_-IvrqS",
        "colab": {
          "base_uri": "https://localhost:8080/",
          "height": 651
        },
        "outputId": "890e00ee-c466-46dd-f9bf-448cbcc96abd"
      },
      "id": "2DvoY_-IvrqS"
    },
    {
      "cell_type": "code",
      "execution_count": null,
      "outputs": [
        {
          "output_type": "stream",
          "name": "stdout",
          "text": [
            "Games played: 500, # of wins: 112\n",
            "Win percentage: 22.400000000000002%\n"
          ]
        }
      ],
      "source": [
        "max_games = 500 # 2000\n",
        "wins = 0\n",
        "for i in range(max_games):\n",
        "    win = minigrid_test_model(Gridworld, model, mode='random', display=False)\n",
        "    if win:\n",
        "        wins += 1\n",
        "win_perc = float(wins) / float(max_games)\n",
        "print(\"Games played: {0}, # of wins: {1}\".format(max_games,wins))\n",
        "print(\"Win percentage: {}%\".format(100.0*win_perc))"
      ],
      "metadata": {
        "pycharm": {
          "name": "#%%\n"
        },
        "id": "8UAY11HTvrqS",
        "colab": {
          "base_uri": "https://localhost:8080/"
        },
        "outputId": "747b9108-d77d-40e7-d4e2-f8ad4aa72eaf"
      },
      "id": "8UAY11HTvrqS"
    },
    {
      "cell_type": "markdown",
      "source": [
        "# Step3. DQN with replay buffer (Experience replay)"
      ],
      "metadata": {
        "collapsed": false,
        "pycharm": {
          "name": "#%% md\n"
        },
        "id": "XdZSg_DnvrqS"
      },
      "id": "XdZSg_DnvrqS"
    },
    {
      "cell_type": "code",
      "execution_count": null,
      "outputs": [],
      "source": [
        "model = MiniGridModel(l1_input=64, l1_output=150, l2_output=100, output=4)\n",
        "\n",
        "loss_fn = torch.nn.MSELoss()\n",
        "learning_rate = 1e-3\n",
        "optimizer = torch.optim.Adam(model.parameters(), lr=learning_rate)\n",
        "\n",
        "gamma = 0.9\n",
        "epsilon = 0.3"
      ],
      "metadata": {
        "pycharm": {
          "name": "#%%\n"
        },
        "id": "r2RobojKvrqS"
      },
      "id": "r2RobojKvrqS"
    },
    {
      "cell_type": "code",
      "execution_count": null,
      "outputs": [
        {
          "output_type": "stream",
          "name": "stdout",
          "text": [
            "499 0.2849096357822418\n"
          ]
        }
      ],
      "source": [
        "epochs = 500 # 2000\n",
        "losses = []\n",
        "mem_size = 1000\n",
        "batch_size = 200\n",
        "replay = deque(maxlen=mem_size)\n",
        "max_moves = 50\n",
        "h = 0\n",
        "\n",
        "for i in range(epochs):\n",
        "    game = Gridworld(size=4, mode='random')\n",
        "    state1_ = game.board.render_np().reshape(1,64) + np.random.rand(1,64)/10.0\n",
        "    state1 = torch.from_numpy(state1_).float()\n",
        "    status = 1\n",
        "    mov = 0\n",
        "\n",
        "    while status == 1:\n",
        "        mov += 1\n",
        "        qval = model(state1)\n",
        "        qval_ = qval.data.numpy()\n",
        "\n",
        "        if random.random() < epsilon:\n",
        "            action_ = np.random.randint(0,4)\n",
        "        else:\n",
        "            action_ = np.argmax(qval_)\n",
        "\n",
        "        action = action_set[action_]\n",
        "        game.makeMove(action)\n",
        "        state2_ = game.board.render_np().reshape(1,64) + np.random.rand(1,64)/10.0\n",
        "        state2 = torch.from_numpy(state2_).float()\n",
        "        reward = game.reward()\n",
        "        done = True if reward > 0 else False\n",
        "\n",
        "        exp =  (state1, action_, reward, state2, done)\n",
        "        replay.append(exp)\n",
        "        state1 = state2\n",
        "\n",
        "\n",
        "        if len(replay) > batch_size:\n",
        "            minibatch = random.sample(replay, batch_size)\n",
        "            state1_batch = torch.cat([s1 for (s1,a,r,s2,d) in minibatch])\n",
        "            action_batch = torch.Tensor([a for (s1,a,r,s2,d) in minibatch])\n",
        "            reward_batch = torch.Tensor([r for (s1,a,r,s2,d) in minibatch])\n",
        "            state2_batch = torch.cat([s2 for (s1,a,r,s2,d) in minibatch])\n",
        "            done_batch = torch.Tensor([d for (s1,a,r,s2,d) in minibatch])\n",
        "\n",
        "            Q1 = model(state1_batch) #L\n",
        "            with torch.no_grad():\n",
        "                Q2 = model(state2_batch) #M\n",
        "\n",
        "            Y = reward_batch + gamma * ((1 - done_batch) * torch.max(Q2,dim=1)[0])\n",
        "            X = Q1.gather(dim=1,index=action_batch.long().unsqueeze(dim=1)).squeeze()\n",
        "            loss = loss_fn(X, Y.detach())\n",
        "\n",
        "            print(i, loss.item())\n",
        "            clear_output(wait=True)\n",
        "\n",
        "            optimizer.zero_grad()\n",
        "            loss.backward()\n",
        "            losses.append(loss.item())\n",
        "            optimizer.step()\n",
        "\n",
        "        if reward != -1 or mov > max_moves:\n",
        "            status = 0\n",
        "            mov = 0\n",
        "\n",
        "losses = np.array(losses)"
      ],
      "metadata": {
        "pycharm": {
          "name": "#%%\n"
        },
        "id": "EgSHgUUNvrqS",
        "colab": {
          "base_uri": "https://localhost:8080/"
        },
        "outputId": "e98da3f6-d410-4e7f-f118-5ee73a579783"
      },
      "id": "EgSHgUUNvrqS"
    },
    {
      "cell_type": "code",
      "execution_count": null,
      "outputs": [
        {
          "output_type": "execute_result",
          "data": {
            "text/plain": [
              "Text(0, 0.5, 'Loss')"
            ]
          },
          "metadata": {},
          "execution_count": 35
        },
        {
          "output_type": "display_data",
          "data": {
            "text/plain": [
              "<Figure size 1000x700 with 1 Axes>"
            ],
            "image/png": "[encoded data removed]"
          },
          "metadata": {}
        }
      ],
      "source": [
        "plt.figure(figsize=(10,7))\n",
        "plt.plot(losses)\n",
        "plt.xlabel(\"Epochs\",fontsize=22)\n",
        "plt.ylabel(\"Loss\",fontsize=22)"
      ],
      "metadata": {
        "pycharm": {
          "name": "#%%\n"
        },
        "id": "fBOnoW52vrqT",
        "colab": {
          "base_uri": "https://localhost:8080/",
          "height": 651
        },
        "outputId": "717987c0-88ef-46ba-c2d1-977594c9adcb"
      },
      "id": "fBOnoW52vrqT"
    },
    {
      "cell_type": "code",
      "execution_count": null,
      "outputs": [
        {
          "output_type": "stream",
          "name": "stdout",
          "text": [
            "Games played: 500, # of wins: 216\n",
            "Win percentage: 43.2%\n"
          ]
        }
      ],
      "source": [
        "max_games = 500 # 1000\n",
        "wins = 0\n",
        "for i in range(max_games):\n",
        "    win = minigrid_test_model(Gridworld, model, mode='random', display=False)\n",
        "    if win:\n",
        "        wins += 1\n",
        "win_perc = float(wins) / float(max_games)\n",
        "print(\"Games played: {0}, # of wins: {1}\".format(max_games,wins))\n",
        "print(\"Win percentage: {}%\".format(100.0*win_perc))"
      ],
      "metadata": {
        "pycharm": {
          "name": "#%%\n"
        },
        "id": "gTyWn7vSvrqT",
        "colab": {
          "base_uri": "https://localhost:8080/"
        },
        "outputId": "bd048ada-2f3b-4c3f-a800-c60de9d4a958"
      },
      "id": "gTyWn7vSvrqT"
    },
    {
      "cell_type": "markdown",
      "source": [
        "# Step4. Using target Net"
      ],
      "metadata": {
        "collapsed": false,
        "pycharm": {
          "name": "#%% md\n"
        },
        "id": "Tve9EMGUvrqT"
      },
      "id": "Tve9EMGUvrqT"
    },
    {
      "cell_type": "code",
      "execution_count": null,
      "outputs": [
        {
          "output_type": "execute_result",
          "data": {
            "text/plain": [
              "<All keys matched successfully>"
            ]
          },
          "metadata": {},
          "execution_count": 37
        }
      ],
      "source": [
        "model = MiniGridModel(l1_input=64, l1_output=150, l2_output=100, output=4)\n",
        "\n",
        "loss_fn = torch.nn.MSELoss()\n",
        "learning_rate = 1e-3\n",
        "optimizer = torch.optim.Adam(model.parameters(), lr=learning_rate)\n",
        "\n",
        "gamma = 0.9\n",
        "epsilon = 0.3\n",
        "\n",
        "target_model = copy.deepcopy(model)\n",
        "target_model.load_state_dict(model.state_dict())\n",
        "\n",
        "epochs = 500 # 2000\n",
        "losses = []\n",
        "mem_size = 1000\n",
        "batch_size = 200\n",
        "replay = deque(maxlen=mem_size)\n",
        "max_moves = 50\n",
        "h = 0\n",
        "\n",
        "# Frequency of sync\n",
        "sync_freq = 200\n",
        "j=0\n",
        "\n",
        "for i in range(epochs):\n",
        "    game = Gridworld(size=4, mode='random')\n",
        "    current_state = game.board.render_np().reshape(1,64) + np.random.rand(1,64)/10.0\n",
        "    current_state = torch.from_numpy(current_state).float()\n",
        "    status = 1\n",
        "    mov = 0\n",
        "\n",
        "    while status == 1:\n",
        "        j+=1\n",
        "        mov += 1\n",
        "        qval = model(current_state)\n",
        "        qval_ = qval.data.numpy()\n",
        "\n",
        "        if random.random() < epsilon:\n",
        "            action_ = np.random.randint(0,4)\n",
        "        else:\n",
        "            action_ = np.argmax(qval_)\n",
        "\n",
        "        action = action_set[action_]\n",
        "        game.makeMove(action)\n",
        "        next_state = game.board.render_np().reshape(1,64) + np.random.rand(1,64)/10.0\n",
        "        next_state = torch.from_numpy(next_state).float()\n",
        "        reward = game.reward()\n",
        "        done = True if reward > 0 else False\n",
        "\n",
        "        exp =  (current_state, action_, reward, next_state, done)\n",
        "        replay.append(exp)\n",
        "        current_state = next_state\n",
        "\n",
        "        if len(replay) > batch_size:\n",
        "            minibatch = random.sample(replay, batch_size)\n",
        "            state1_batch = torch.cat([s1 for (s1,a,r,s2,d) in minibatch])\n",
        "            action_batch = torch.Tensor([a for (s1,a,r,s2,d) in minibatch])\n",
        "            reward_batch = torch.Tensor([r for (s1,a,r,s2,d) in minibatch])\n",
        "            state2_batch = torch.cat([s2 for (s1,a,r,s2,d) in minibatch])\n",
        "            done_batch = torch.Tensor([d for (s1,a,r,s2,d) in minibatch])\n",
        "\n",
        "            Q1 = model(state1_batch)\n",
        "            with torch.no_grad():\n",
        "                Q2 = target_model(state2_batch)\n",
        "\n",
        "            Y = reward_batch + gamma * ((1-done_batch) * torch.max(Q2,dim=1)[0])\n",
        "            X = Q1.gather(dim=1,index=action_batch.long().unsqueeze(dim=1)).squeeze()\n",
        "            loss = loss_fn(X, Y.detach())\n",
        "            print(i, loss.item())\n",
        "            clear_output(wait=True)\n",
        "            optimizer.zero_grad()\n",
        "            loss.backward()\n",
        "            losses.append(loss.item())\n",
        "            optimizer.step()\n",
        "\n",
        "            if j % sync_freq == 0:\n",
        "                target_model.load_state_dict(model.state_dict())\n",
        "\n",
        "        if reward != -1 or mov > max_moves:\n",
        "            status = 0\n",
        "            mov = 0\n",
        "\n",
        "losses = np.array(losses)\n"
      ],
      "metadata": {
        "pycharm": {
          "name": "#%%\n"
        },
        "id": "m8sPfR1zvrqT",
        "colab": {
          "base_uri": "https://localhost:8080/"
        },
        "outputId": "de15c453-e7fe-4cf1-ae46-5ee54d4d782b"
      },
      "id": "m8sPfR1zvrqT"
    },
    {
      "cell_type": "code",
      "execution_count": null,
      "outputs": [
        {
          "output_type": "stream",
          "name": "stdout",
          "text": [
            "499 0.18385612964630127\n"
          ]
        }
      ],
      "source": [
        "epochs = 500 # 2000\n",
        "losses = []\n",
        "mem_size = 1000\n",
        "batch_size = 200\n",
        "replay = deque(maxlen=mem_size)\n",
        "max_moves = 50\n",
        "h = 0\n",
        "\n",
        "# Frequency of sync\n",
        "sync_freq = 200\n",
        "j=0\n",
        "\n",
        "for i in range(epochs):\n",
        "    game = Gridworld(size=4, mode='random')\n",
        "    current_state = game.board.render_np().reshape(1,64) + np.random.rand(1,64)/10.0\n",
        "    current_state = torch.from_numpy(current_state).float()\n",
        "    status = 1\n",
        "    mov = 0\n",
        "\n",
        "    while status == 1:\n",
        "        j+=1\n",
        "        mov += 1\n",
        "        qval = model(current_state)\n",
        "        qval_ = qval.data.numpy()\n",
        "\n",
        "        if random.random() < epsilon:\n",
        "            action_ = np.random.randint(0,4)\n",
        "        else:\n",
        "            action_ = np.argmax(qval_)\n",
        "\n",
        "        action = action_set[action_]\n",
        "        game.makeMove(action)\n",
        "        next_state = game.board.render_np().reshape(1,64) + np.random.rand(1,64)/10.0\n",
        "        next_state = torch.from_numpy(next_state).float()\n",
        "        reward = game.reward()\n",
        "        done = True if reward > 0 else False\n",
        "\n",
        "        exp =  (current_state, action_, reward, next_state, done)\n",
        "        replay.append(exp)\n",
        "        current_state = next_state\n",
        "\n",
        "        if len(replay) > batch_size:\n",
        "            minibatch = random.sample(replay, batch_size)\n",
        "            state1_batch = torch.cat([s1 for (s1,a,r,s2,d) in minibatch])\n",
        "            action_batch = torch.Tensor([a for (s1,a,r,s2,d) in minibatch])\n",
        "            reward_batch = torch.Tensor([r for (s1,a,r,s2,d) in minibatch])\n",
        "            state2_batch = torch.cat([s2 for (s1,a,r,s2,d) in minibatch])\n",
        "            done_batch = torch.Tensor([d for (s1,a,r,s2,d) in minibatch])\n",
        "\n",
        "            Q1 = model(state1_batch)\n",
        "            with torch.no_grad():\n",
        "                Q2 = target_model(state2_batch)\n",
        "\n",
        "            Y = reward_batch + gamma * ((1-done_batch) * torch.max(Q2,dim=1)[0])\n",
        "            X = Q1.gather(dim=1,index=action_batch.long().unsqueeze(dim=1)).squeeze()\n",
        "            loss = loss_fn(X, Y.detach())\n",
        "            print(i, loss.item())\n",
        "            clear_output(wait=True)\n",
        "            optimizer.zero_grad()\n",
        "            loss.backward()\n",
        "            losses.append(loss.item())\n",
        "            optimizer.step()\n",
        "\n",
        "            if j % sync_freq == 0:\n",
        "                target_model.load_state_dict(model.state_dict())\n",
        "\n",
        "        if reward != -1 or mov > max_moves:\n",
        "            status = 0\n",
        "            mov = 0\n",
        "\n",
        "losses = np.array(losses)\n"
      ],
      "metadata": {
        "pycharm": {
          "name": "#%%\n"
        },
        "id": "YaWXOEokvrqT",
        "colab": {
          "base_uri": "https://localhost:8080/"
        },
        "outputId": "e029ee81-24ac-41ee-aaf4-ae6a6e5cf7b0"
      },
      "id": "YaWXOEokvrqT"
    },
    {
      "cell_type": "code",
      "execution_count": null,
      "id": "3d88b77e",
      "metadata": {
        "pycharm": {
          "name": "#%%\n"
        },
        "id": "3d88b77e",
        "colab": {
          "base_uri": "https://localhost:8080/"
        },
        "outputId": "c7b6fec0-bd07-4313-cdcb-3cfb5cc66821"
      },
      "outputs": [
        {
          "output_type": "stream",
          "name": "stdout",
          "text": [
            "499 0.0918092131614685\n"
          ]
        }
      ],
      "source": [
        "epochs = 500 # 2000\n",
        "losses = []\n",
        "mem_size = 1000\n",
        "batch_size = 200\n",
        "replay = deque(maxlen=mem_size)\n",
        "max_moves = 50\n",
        "h = 0\n",
        "\n",
        "# Frequency of sync\n",
        "sync_freq = 200\n",
        "j=0\n",
        "\n",
        "for i in range(epochs):\n",
        "    game = Gridworld(size=4, mode='random')\n",
        "    current_state = game.board.render_np().reshape(1,64) + np.random.rand(1,64)/10.0\n",
        "    current_state = torch.from_numpy(current_state).float()\n",
        "    status = 1\n",
        "    mov = 0\n",
        "\n",
        "    while status == 1:\n",
        "        j+=1\n",
        "        mov += 1\n",
        "        qval = model(current_state)\n",
        "        qval_ = qval.data.numpy()\n",
        "\n",
        "        if random.random() < epsilon:\n",
        "            action_ = np.random.randint(0,4)\n",
        "        else:\n",
        "            action_ = np.argmax(qval_)\n",
        "\n",
        "        action = action_set[action_]\n",
        "        game.makeMove(action)\n",
        "        next_state = game.board.render_np().reshape(1,64) + np.random.rand(1,64)/10.0\n",
        "        next_state = torch.from_numpy(next_state).float()\n",
        "        reward = game.reward()\n",
        "        done = True if reward > 0 else False\n",
        "\n",
        "        exp =  (current_state, action_, reward, next_state, done)\n",
        "        replay.append(exp)\n",
        "        current_state = next_state\n",
        "\n",
        "        if len(replay) > batch_size:\n",
        "            minibatch = random.sample(replay, batch_size)\n",
        "            state1_batch = torch.cat([s1 for (s1,a,r,s2,d) in minibatch])\n",
        "            action_batch = torch.Tensor([a for (s1,a,r,s2,d) in minibatch])\n",
        "            reward_batch = torch.Tensor([r for (s1,a,r,s2,d) in minibatch])\n",
        "            state2_batch = torch.cat([s2 for (s1,a,r,s2,d) in minibatch])\n",
        "            done_batch = torch.Tensor([d for (s1,a,r,s2,d) in minibatch])\n",
        "\n",
        "            Q1 = model(state1_batch)\n",
        "            with torch.no_grad():\n",
        "                Q2 = target_model(state2_batch)\n",
        "\n",
        "            Y = reward_batch + gamma * ((1-done_batch) * torch.max(Q2,dim=1)[0])\n",
        "            X = Q1.gather(dim=1,index=action_batch.long().unsqueeze(dim=1)).squeeze()\n",
        "            loss = loss_fn(X, Y.detach())\n",
        "            print(i, loss.item())\n",
        "            clear_output(wait=True)\n",
        "            optimizer.zero_grad()\n",
        "            loss.backward()\n",
        "            losses.append(loss.item())\n",
        "            optimizer.step()\n",
        "\n",
        "            if j % sync_freq == 0:\n",
        "                target_model.load_state_dict(model.state_dict())\n",
        "\n",
        "        if reward != -1 or mov > max_moves:\n",
        "            status = 0\n",
        "            mov = 0\n",
        "\n",
        "losses = np.array(losses)\n"
      ]
    },
    {
      "cell_type": "code",
      "execution_count": null,
      "id": "932290d2",
      "metadata": {
        "pycharm": {
          "name": "#%%\n"
        },
        "id": "932290d2",
        "colab": {
          "base_uri": "https://localhost:8080/",
          "height": 651
        },
        "outputId": "795df9f7-cf21-4912-c894-1c230db94ee8"
      },
      "outputs": [
        {
          "output_type": "execute_result",
          "data": {
            "text/plain": [
              "Text(0, 0.5, 'Loss')"
            ]
          },
          "metadata": {},
          "execution_count": 40
        },
        {
          "output_type": "display_data",
          "data": {
            "text/plain": [
              "<Figure size 1000x700 with 1 Axes>"
            ],
            "image/png": "[encoded data removed]"
          },
          "metadata": {}
        }
      ],
      "source": [
        "plt.figure(figsize=(10,7))\n",
        "plt.plot(losses)\n",
        "plt.xlabel(\"Epochs\",fontsize=22)\n",
        "plt.ylabel(\"Loss\",fontsize=22)\n"
      ]
    },
    {
      "cell_type": "code",
      "execution_count": null,
      "id": "9d78b4ae",
      "metadata": {
        "pycharm": {
          "name": "#%%\n"
        },
        "id": "9d78b4ae",
        "colab": {
          "base_uri": "https://localhost:8080/"
        },
        "outputId": "5acef995-9045-4189-ed9f-4c3cd185e45d"
      },
      "outputs": [
        {
          "output_type": "stream",
          "name": "stdout",
          "text": [
            "Games played: 500, # of wins: 304\n",
            "Win percentage: 60.8%\n"
          ]
        }
      ],
      "source": [
        "max_games = 500 # 1000\n",
        "wins = 0\n",
        "for i in range(max_games):\n",
        "    win = minigrid_test_model(Gridworld, model, mode='random', display=False)\n",
        "    if win:\n",
        "        wins += 1\n",
        "win_perc = float(wins) / float(max_games)\n",
        "print(\"Games played: {0}, # of wins: {1}\".format(max_games,wins))\n",
        "print(\"Win percentage: {}%\".format(100.0*win_perc))"
      ]
    }
  ],
  "metadata": {
    "kernelspec": {
      "display_name": "Python 3 (ipykernel)",
      "language": "python",
      "name": "python3"
    },
    "language_info": {
      "codemirror_mode": {
        "name": "ipython",
        "version": 3
      },
      "file_extension": ".py",
      "mimetype": "text/x-python",
      "name": "python",
      "nbconvert_exporter": "python",
      "pygments_lexer": "ipython3",
      "version": "3.8.15"
    },
    "colab": {
      "provenance": [],
      "include_colab_link": true
    }
  },
  "nbformat": 4,
  "nbformat_minor": 5
}